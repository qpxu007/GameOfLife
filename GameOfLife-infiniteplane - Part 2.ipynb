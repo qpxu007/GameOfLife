{
 "cells": [
  {
   "cell_type": "markdown",
   "metadata": {},
   "source": [
    "# Game of Life - Part 2"
   ]
  },
  {
   "cell_type": "markdown",
   "metadata": {},
   "source": [
    "*Author*: **qpxu007@gmail.com**"
   ]
  },
  {
   "cell_type": "markdown",
   "metadata": {},
   "source": [
    "## Putting it together"
   ]
  },
  {
   "cell_type": "markdown",
   "metadata": {},
   "source": [
    "In part 1, we explored ways to implement the Game of Life in different boundary conditions. \n",
    "We showed that it is more elegant to represent the data as list of tuples, which are positions of all live cells. \n",
    "Here we encapsulate the implementation in a class.    "
   ]
  },
  {
   "cell_type": "code",
   "execution_count": 27,
   "metadata": {
    "collapsed": true
   },
   "outputs": [],
   "source": [
    "import numpy as np\n",
    "\n",
    "\n",
    "class GameOfLife(object):\n",
    "    def get_xylim(self):\n",
    "        \"\"\" Given positions of cells, find the minimum rectangle to\n",
    "        cover those cells, represented by [(xmin,ymin), (xmax, ymax)]\n",
    "        \"\"\"\n",
    "\n",
    "        # assume random ordering of tuples, otherwise, sort by y is not needed\n",
    "        tuples_sorty = sorted(self.data, key=lambda x: x[1])\n",
    "        ymin = tuples_sorty[0][1]\n",
    "        ymax = tuples_sorty[-1][1]\n",
    "\n",
    "        tuples_sortx = sorted(self.data, key=lambda x: x[0])\n",
    "        xmin = tuples_sortx[0][0]\n",
    "        xmax = tuples_sortx[-1][0]\n",
    "        return [(xmin, xmax), (ymin, ymax)]\n",
    "\n",
    "    def __mat2tuples(self, matrix):\n",
    "        \"\"\" Given cells represented in a matrix, return a list of\n",
    "        positions (i,j) with live cells\"\"\"\n",
    "\n",
    "        return [(i, j) for i, row in enumerate(matrix)\n",
    "                for j, col in enumerate(row) if col]\n",
    "\n",
    "    def __tuples2minmat(self):\n",
    "        \"\"\" Given positions of live cells (as x,y tuples), convert them in a\n",
    "        minimum matrix representation\"\"\"\n",
    "        if not self.data:\n",
    "            return [[]], 0, 0\n",
    "\n",
    "        (xmin, xmax), (ymin, ymax) = self.get_xylim()\n",
    "        ny = ymax - ymin + 1\n",
    "        nx = xmax - xmin + 1\n",
    "        matrix = [[0] * ny for _ in range(nx)]\n",
    "        for t in self.data:\n",
    "            x = t[0] - xmin\n",
    "            y = t[1] - ymin\n",
    "            matrix[x][y] = 1\n",
    "\n",
    "        return matrix, xmin, ymin\n",
    "\n",
    "    def __init__(self, data=None, m=5, n=5, seed=1,\n",
    "                 percent_alive=0.5, boundary='periodic'):\n",
    "        \"\"\" Initialize the game from a user supplied 2D matrix or\n",
    "        random generated 2D matrix\n",
    "\n",
    "        :param data: 2D matrix with values 1 or 0\n",
    "        :param m: num of rows\n",
    "        :param n: num of cols\n",
    "        :param seed: seed for generating random number\n",
    "        :return: a list of tuples, each tuple (x,y)\n",
    "            corresponds to a cell with value 1\n",
    "        \"\"\"\n",
    "\n",
    "        if not data:\n",
    "            np.random.seed(seed)\n",
    "            mat_data = np.random.choice(2, m * n,\n",
    "                                        p=[1 - percent_alive, percent_alive]).reshape(m, n)\n",
    "            self.m = m\n",
    "            self.n = n\n",
    "        else:\n",
    "            mat_data = np.array(data)\n",
    "            self.m = len(data)\n",
    "            self.n = len(data[0])\n",
    "\n",
    "        self.data = self.__mat2tuples(mat_data)\n",
    "        self.start_state = mat_data\n",
    "        if boundary in ('fixed', 'periodic', 'infinite'):\n",
    "            self.boundary = boundary\n",
    "        else:\n",
    "            raise Exception('unknown boundary condition')\n",
    "\n",
    "    def __neighbor_list(self, position):\n",
    "        \"\"\" given a cell position (a tuple), return a list of indices of valid cells,\n",
    "        based on boundary condition \"\"\"\n",
    "\n",
    "        assert isinstance(position, tuple)\n",
    "        x, y = position\n",
    "        m = self.m\n",
    "        n = self.n\n",
    "        mode = self.boundary\n",
    "\n",
    "        nxy = lambda x, y: [(x - 1, y - 1), (x - 1, y), (x - 1, y + 1),\n",
    "                            (x, y - 1), (x, y + 1), (x + 1, y - 1),\n",
    "                            (x + 1, y), (x + 1, y + 1)]\n",
    "        if mode == 'periodic':\n",
    "            return [(i % m, j % n) for i, j in nxy(x, y)]\n",
    "        elif mode == 'fixed':\n",
    "            valid_pix = lambda x, y, m, n: 0 <= x < m and 0 <= y < n\n",
    "            return [(a, b) for a, b in nxy(x, y) if valid_pix(a, b, m, n)]\n",
    "        else:\n",
    "            return nxy(x, y)\n",
    "\n",
    "    def __count_live_neighbors(self, position):\n",
    "        \"\"\" given a position, count how many its neighbors are alive  \"\"\"\n",
    "\n",
    "        return len(set(self.__neighbor_list(position)) & set(self.data))\n",
    "\n",
    "    def __iter__(self):\n",
    "        return self\n",
    "\n",
    "    def next(self):\n",
    "        \"\"\" one generation of evolution \"\"\"\n",
    "\n",
    "        if not self.data:\n",
    "            return self\n",
    "\n",
    "        # pass 1 check all live cells in current generation, and collect all neighboring dead cells\n",
    "        new_gen = list()\n",
    "        dead_neighbor_cells = list()\n",
    "\n",
    "        for cell in self.data:\n",
    "            dead_neighbor_cells.extend([t for t in self.__neighbor_list(cell)\n",
    "                                        if t not in self.data])\n",
    "            if 2 <= self.__count_live_neighbors(cell) <= 3:\n",
    "                new_gen.append(cell)\n",
    "\n",
    "        # pass 2, check dead cells adjacent to current live cells\n",
    "        for cell in set(dead_neighbor_cells):\n",
    "            if self.__count_live_neighbors(cell) == 3:\n",
    "                new_gen.append(cell)\n",
    "\n",
    "        # order the output by y, then by x\n",
    "        self.data = sorted(new_gen, key=lambda x: (x[1], x[0]))\n",
    "        return self\n",
    "\n",
    "    def n_alive(self):\n",
    "        return len(self.data)\n",
    "\n",
    "    def __str__(self):\n",
    "        # convert it into a matrix\n",
    "        out = list()\n",
    "        dim_old = \"Original dimension ({},{}): \".format(self.m, self.n)\n",
    "        matrix, xmin, ymin = self.__tuples2minmat()\n",
    "        dim_new = \"Current min matrix size ({},{}), xmin={}, ymin={} \"\\\n",
    "            .format(len(matrix), len(matrix[0]), xmin, ymin)\n",
    "        out.append(\"Header: {}\\n{}\\n\".format(dim_old, dim_new))\n",
    "\n",
    "        for row in matrix:\n",
    "            out.extend([\"1\" if cell else \"0\" for cell in row])\n",
    "            out.append(\"\\n\")\n",
    "\n",
    "        return \"\".join(out)"
   ]
  },
  {
   "cell_type": "markdown",
   "metadata": {},
   "source": [
    "The class constructor allows initialization of the game either randomly (by supply number of rows and columns, and percentage of live cells) or using user supplied 2D matrix (if data parameter is not None). The boundary condition ('periodic', 'fixed' or 'infinite') is also set by user. The class is implemented as an iterator object, such that each call will update itself. For example,"
   ]
  },
  {
   "cell_type": "code",
   "execution_count": 28,
   "metadata": {
    "collapsed": false
   },
   "outputs": [
    {
     "name": "stdout",
     "output_type": "stream",
     "text": [
      "Header: Original dimension (10,20): \n",
      "Current min matrix size (9,20), xmin=1, ymin=0 \n",
      "01000000000010000000\n",
      "10000010000000000000\n",
      "00000000101000001000\n",
      "00000001000100001000\n",
      "00001001010010000100\n",
      "00000000000100000000\n",
      "00000000000100000010\n",
      "00000000000100000000\n",
      "00000000010000110001\n",
      "\n",
      "0 - 18\n",
      "1 - 10\n",
      "2 - 5\n",
      "3 - 5\n",
      "4 - 5\n"
     ]
    }
   ],
   "source": [
    "game = GameOfLife(m=10, n=20, percent_alive=0.1, boundary='periodic')\n",
    "print game\n",
    "for i in range(5):\n",
    "    print i, \"-\", game.next().n_alive()"
   ]
  },
  {
   "cell_type": "markdown",
   "metadata": {},
   "source": [
    "## Plotting and animation\n",
    "\n",
    "In this case above, we can only generate text representation. It is much easier to identify interesting patterns or trends graphically. Here we modify the plotting function in part 1 to plot the tuple list data directly. "
   ]
  },
  {
   "cell_type": "code",
   "execution_count": 29,
   "metadata": {
    "collapsed": false,
    "scrolled": false
   },
   "outputs": [
    {
     "data": {
      "image/png": "[encoded data removed]",
      "text/plain": [
       "<matplotlib.figure.Figure at 0xa298cf8>"
      ]
     },
     "metadata": {},
     "output_type": "display_data"
    },
    {
     "data": {
      "image/png": "[encoded data removed]",
      "text/plain": [
       "<matplotlib.figure.Figure at 0xa49b2b0>"
      ]
     },
     "metadata": {},
     "output_type": "display_data"
    }
   ],
   "source": [
    "import matplotlib.pyplot as plt\n",
    "import matplotlib.patches as patches\n",
    "import matplotlib as mpl\n",
    "\n",
    "%matplotlib inline  \n",
    "\n",
    "def plot_GOL(GameOfLife, file_prefix=None, file_seq_num=1):\n",
    "    m = GameOfLife.m\n",
    "    n = GameOfLife.n\n",
    "    data = GameOfLife.data\n",
    "    \n",
    "    fig = plt.figure()\n",
    "    ax = fig.add_subplot(111)\n",
    "    ax.set_aspect('equal')\n",
    "\n",
    "    for i,j in data:\n",
    "        ax.add_patch(patches.Rectangle((i,j), 1,1, color=\"black\"))\n",
    "\n",
    "    ax.set_xticks([])\n",
    "    ax.set_yticks([])\n",
    "    \n",
    "    if GameOfLife.boundary in ('periodic', 'fixed'):\n",
    "        plt.xlim(-1, n+1)\n",
    "        plt.ylim(-1, m+1)\n",
    "    else:\n",
    "        (xmin,xmax), (ymin, ymax) = GameOfLife.get_xylim()\n",
    "        plt.xlim(xmin-1, xmax+2)\n",
    "        plt.ylim(ymin-1, ymax+2)\n",
    "        \n",
    "    if not file_prefix:\n",
    "        plt.show()\n",
    "    else:\n",
    "        plt.savefig(file_prefix + '-' + str(file_seq_num).zfill(4) + '.png', bbox_inches='tight')\n",
    "        plt.close(fig)\n",
    "\n",
    "\n",
    "gol = GameOfLife(data=[[1,1,1,1]], boundary='infinite')\n",
    "plot_GOL(gol)\n",
    "plot_GOL(gol.next())\n",
    "plot_GOL(gol, file_prefix=\"example\", file_seq_num=1)\n",
    "plot_GOL(gol, file_prefix=\"example\", file_seq_num=2)"
   ]
  },
  {
   "cell_type": "code",
   "execution_count": 30,
   "metadata": {
    "collapsed": false
   },
   "outputs": [],
   "source": [
    "import glob\n",
    "from PIL import Image\n",
    "from images2gif import writeGif\n",
    "\n",
    "def animate_GOL(input_file_prefix, output_file=\"GOL.gif\"):\n",
    "    # read images from current directory\n",
    "    pattern = input_file_prefix+\"*.png\"\n",
    "    images = [Image.open(image) for image in glob.glob(pattern)]\n",
    "    \n",
    "    # resize all images to the size of the first image \n",
    "    # not perfect for infinite boundary condition)\n",
    "    size = images[0].size\n",
    "    for im in images:\n",
    "        im.thumbnail(size, Image.ANTIALIAS)\n",
    "    \n",
    "    # write gif and display\n",
    "    writeGif(output_file, images, duration=0.4)\n",
    "\n",
    "animate_GOL(\"example\", output_file=\"ex.gif\")"
   ]
  },
  {
   "cell_type": "markdown",
   "metadata": {},
   "source": [
    "## Simulation\n",
    "\n",
    "Now we can run some simulations. While the GOL can update itself infinitely, the simulations most often stablizes in a few stable patterns. We need an algorithm to stop the run. For this, we can count the number of live cells for each generation first. If there are no changes for k generations, the simulation will stop."
   ]
  },
  {
   "cell_type": "code",
   "execution_count": 31,
   "metadata": {
    "collapsed": false
   },
   "outputs": [
    {
     "name": "stdout",
     "output_type": "stream",
     "text": [
      "78\n"
     ]
    },
    {
     "data": {
      "text/html": [
       "<img src=\"square-anim.gif\"/>"
      ],
      "text/plain": [
       "<IPython.core.display.Image object>"
      ]
     },
     "execution_count": 31,
     "metadata": {},
     "output_type": "execute_result"
    }
   ],
   "source": [
    "from collections import Counter\n",
    "\n",
    "def run_simulation(game, max_cycle=50):\n",
    "    results = []\n",
    "    lives = []\n",
    "    for i in range(max_cycle):\n",
    "        lives.append(game.next().n_alive())\n",
    "        results.append(game)\n",
    "        plot_GOL(game, file_prefix=\"square-\", file_seq_num=i)\n",
    "        # if the n_alive does not change for the 10 latest generation, stop\n",
    "        if len(lives) >= 10 and len(Counter(lives[-10:])) == 1:\n",
    "            break\n",
    "\n",
    "    return results\n",
    "\n",
    "# run simulation\n",
    "gol_fixed = GameOfLife(m=40, n=40, percent_alive=1, seed=5, boundary='infinite')\n",
    "results = run_simulation(gol_fixed, max_cycle=100)\n",
    "print len(results)\n",
    "\n",
    "# prepare animation\n",
    "animate_GOL(\"square-\", output_file=\"square-anim.gif\")\n",
    "\n",
    "import IPython.display as IPdisplay\n",
    "\n",
    "IPdisplay.Image(url=\"square-anim.gif\")"
   ]
  }
 ],
 "metadata": {
  "kernelspec": {
   "display_name": "Python 2",
   "language": "python",
   "name": "python2"
  },
  "language_info": {
   "codemirror_mode": {
    "name": "ipython",
    "version": 2
   },
   "file_extension": ".py",
   "mimetype": "text/x-python",
   "name": "python",
   "nbconvert_exporter": "python",
   "pygments_lexer": "ipython2",
   "version": "2.7.11"
  }
 },
 "nbformat": 4,
 "nbformat_minor": 0
}
