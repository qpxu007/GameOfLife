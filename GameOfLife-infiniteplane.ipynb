{
 "cells": [
  {
   "cell_type": "markdown",
   "metadata": {},
   "source": [
    "# Game of Life (infinite plane)"
   ]
  },
  {
   "cell_type": "markdown",
   "metadata": {},
   "source": [
    "*Author*: **qpxu007@gmail.com**"
   ]
  },
  {
   "cell_type": "markdown",
   "metadata": {},
   "source": [
    "[Conway's game of life (GOL)](https://en.wikipedia.org/wiki/Conway%27s_Game_of_Life) is well-known cellular automata that demonstrates simple rules can generate complicated and interesting patterns. The rules are as following:\n",
    "\n",
    "The game universe is a plane consists of rectangle cells. Each cell can be dead (value 0) or alive (value 1). The status of the cell are updated from generation to generation, and the status of a cell in the following generate is determined by its 8 neigbhors in its previous generation: \n",
    "\n",
    "1. Any live cell with fewer than two live neighbors dies (underpopulation). \n",
    "2. Any live cell with more than three live neighbors dies (overcrowding). \n",
    "3. Any live cell with two or three live neighbors lives on to the next generation.\n",
    "4. Any dead cell with exactly three live neighbors becomes a live cell (offsprings).\n",
    "\n",
    "Games of life is often implemented in using two dimensional arrays, which are used to store value (0 or 1) of each cell. Here we explore implementation of GOL under different boundary conditions."
   ]
  },
  {
   "cell_type": "markdown",
   "metadata": {},
   "source": [
    "## Displaying matrix"
   ]
  },
  {
   "cell_type": "markdown",
   "metadata": {},
   "source": [
    "First, we can write code to display the results more nicely. We can use matplotlib to plot it (live cells in black):"
   ]
  },
  {
   "cell_type": "code",
   "execution_count": 27,
   "metadata": {
    "collapsed": false
   },
   "outputs": [
    {
     "data": {
      "image/png": "[encoded data removed]",
      "text/plain": [
       "<matplotlib.figure.Figure at 0x3d3d6898>"
      ]
     },
     "metadata": {},
     "output_type": "display_data"
    },
    {
     "data": {
      "image/png": "[encoded data removed]",
      "text/plain": [
       "<matplotlib.figure.Figure at 0x3d3d6128>"
      ]
     },
     "metadata": {},
     "output_type": "display_data"
    }
   ],
   "source": [
    "import matplotlib.pyplot as plt\n",
    "import matplotlib.patches as patches\n",
    "import matplotlib as mpl\n",
    "\n",
    "%matplotlib inline  \n",
    "\n",
    "def plotcells(array):\n",
    "    m = len(array)\n",
    "    n = len(array[0])\n",
    "    \n",
    "    fig = plt.figure()\n",
    "    ax = fig.add_subplot(111)\n",
    "\n",
    "    if not n:\n",
    "        # empty matrix, plot one white square\n",
    "        ax.add_patch(patches.Rectangle((0,0), 1,1, color=\"white\"))\n",
    "        plt.xlim(0, 1)\n",
    "        plt.ylim(0, 1)\n",
    "    else:\n",
    "        for i, row in enumerate(array):\n",
    "            for j, cell in enumerate(row):\n",
    "                if cell:\n",
    "                    ax.add_patch(patches.Rectangle((j,i), 1,1, color=\"black\"))\n",
    "                else: \n",
    "                    ax.add_patch(patches.Rectangle((j,i), 1,1, color=\"white\"))\n",
    "\n",
    "        plt.xlim(0, n)\n",
    "        plt.ylim(0, m)\n",
    "\n",
    "    tick_spacing = max(m,n)//10+1\n",
    "    ax.xaxis.set_major_locator(mpl.ticker.MultipleLocator(tick_spacing))\n",
    "    ax.yaxis.set_major_locator(mpl.ticker.MultipleLocator(tick_spacing))\n",
    "\n",
    "\n",
    "    plt.grid(True, color = 'black', linestyle = '-')\n",
    "\n",
    "    plt.show()\n",
    "\n",
    "mat = [[1,0,0,0], [0,1,1,0], [1,1,0,0]]\n",
    "plotcells(mat)     \n",
    "plotcells([[1],[1],[1]])"
   ]
  },
  {
   "cell_type": "markdown",
   "metadata": {},
   "source": [
    "## Random configuration generation"
   ]
  },
  {
   "cell_type": "markdown",
   "metadata": {},
   "source": [
    "We we use numpy to generate some random matrix, given dimension of the matrix (row, col) and precentage of cells \n",
    "with values of 1."
   ]
  },
  {
   "cell_type": "code",
   "execution_count": 28,
   "metadata": {
    "collapsed": false
   },
   "outputs": [
    {
     "data": {
      "image/png": "[encoded data removed]",
      "text/plain": [
       "<matplotlib.figure.Figure at 0x7707aa20>"
      ]
     },
     "metadata": {},
     "output_type": "display_data"
    }
   ],
   "source": [
    "import numpy as np\n",
    "\n",
    "def generate_start_config(m=1, n=1, p=0.5, seed=1):\n",
    "    \"\"\"Generate a starting matrix given number of rows and columns, percentage of live cells, and seed\"\"\"\n",
    "    np.random.seed(seed)\n",
    "    cells = np.random.choice(2,m*n,p=[1-p,p])\n",
    "    return cells.reshape(m,n)\n",
    "\n",
    "plotcells(generate_start_config(5,10,0.2))"
   ]
  },
  {
   "cell_type": "markdown",
   "metadata": {},
   "source": [
    "## Fixed-size universe"
   ]
  },
  {
   "cell_type": "markdown",
   "metadata": {},
   "source": [
    "If we assume the plane is of finite size (m x n), it is straightforward to implement GOL using matrix in python:"
   ]
  },
  {
   "cell_type": "code",
   "execution_count": 29,
   "metadata": {
    "collapsed": false
   },
   "outputs": [],
   "source": [
    "def neighbor_list(index, m, n):\n",
    "    ''' given a cell position (a tuple) and cell dimensions, return a list of indices of valid cells '''\n",
    "    x, y = index\n",
    "    nxy = lambda x, y: [(x - 1, y - 1), (x - 1, y), (x - 1, y + 1), (x, y - 1), (x, y + 1), (x + 1, y - 1), (x + 1, y),\n",
    "                        (x + 1, y + 1)]\n",
    "    valid_pix = lambda x, y, m, n: 0 <= x <= m - 1 and 0 <= y <= n - 1\n",
    "    return [(a, b) for a, b in nxy(x, y) if valid_pix(a, b, m, n)]\n",
    "\n",
    "\n",
    "def update_by_rule(value, live_neighbours):\n",
    "    ''' give a value and its number of live neighbors, return a new value based on a set of rules    '''\n",
    "    if value == 1:\n",
    "        # under population or overpopulation\n",
    "        if live_neighbours < 2 or live_neighbours > 3:\n",
    "            return 0\n",
    "        else:\n",
    "            return 1\n",
    "    # offspring\n",
    "    if value == 0 and live_neighbours == 3:\n",
    "        return 1\n",
    "    return value\n",
    "\n",
    "\n",
    "def count_live_neighbors(cells, indices):\n",
    "    \"\"\" sum up the cell values for given indices (given as tuples) \"\"\"\n",
    "    return sum(cells[i][j] for i, j in indices)\n",
    "\n",
    "\n",
    "def one_generation_matrix(cells):\n",
    "    \"\"\" one generation of evolution by rule \"\"\"\n",
    "    m = len(cells)  # mrows\n",
    "    n = len(cells[0])  # ncols\n",
    "    new_cells = [[0] * n for _ in range(m)]\n",
    "    for i in xrange(m):\n",
    "        for j in xrange(n):\n",
    "            nlive_neighbors = count_live_neighbors(cells, neighbor_list((i, j), m, n))\n",
    "            new_cells[i][j] = update_by_rule(cells[i][j], nlive_neighbors)\n",
    "    return new_cells\n",
    "\n",
    "\n",
    "def get_generation(cells, generations):\n",
    "    for _ in xrange(generations):\n",
    "        cells = one_generation(cells)\n",
    "    return cells"
   ]
  },
  {
   "cell_type": "markdown",
   "metadata": {},
   "source": [
    "For a simple test case of a 3x3 unit matrix, after 1 generation of evolution, we get:"
   ]
  },
  {
   "cell_type": "code",
   "execution_count": 30,
   "metadata": {
    "collapsed": false,
    "scrolled": true
   },
   "outputs": [
    {
     "data": {
      "image/png": "[encoded data removed]",
      "text/plain": [
       "<matplotlib.figure.Figure at 0x78afd128>"
      ]
     },
     "metadata": {},
     "output_type": "display_data"
    }
   ],
   "source": [
    "start = [[1, 0, 0], [0, 1, 0], [0, 0, 1]]\n",
    "plotcells(one_generation_matrix(start))"
   ]
  },
  {
   "cell_type": "markdown",
   "metadata": {},
   "source": [
    "## Periodic boundary condition"
   ]
  },
  {
   "cell_type": "markdown",
   "metadata": {},
   "source": [
    "Now what if we have a periodic condition? In other words, the plane consists of infinite numbers of \n",
    "fixed planes that are related by periodic translations. For example, the (-1, -1) cell in above figure is equivalent to \n",
    "the (2, 2) cell. As a result, if a neighbor cell is outside the bound, we can always find an equvalent cell inside \n",
    "by a modulus operation. As a result, we need to modify the neighbor_list function to incorporate this case."
   ]
  },
  {
   "cell_type": "code",
   "execution_count": 31,
   "metadata": {
    "collapsed": false
   },
   "outputs": [
    {
     "data": {
      "image/png": "[encoded data removed]",
      "text/plain": [
       "<matplotlib.figure.Figure at 0x40243828>"
      ]
     },
     "metadata": {},
     "output_type": "display_data"
    }
   ],
   "source": [
    "def neighbor_list(index, m, n, mode='periodic'):\n",
    "    \"\"\" given a cell position (a tuple) and cell dimensions, return a list of indices of valid cells, \n",
    "    based on boundary condition \"\"\"\n",
    "    x, y = index\n",
    "    nxy = lambda x, y: [(x - 1, y - 1), (x - 1, y), (x - 1, y + 1), \n",
    "                        (x, y - 1), (x, y + 1), (x + 1, y - 1), (x + 1, y),\n",
    "                        (x + 1, y + 1)]\n",
    "    if mode == 'periodic':\n",
    "        return [(i % m, j % n) for i,j in nxy(x,y)]\n",
    "    elif mode == 'fixed': \n",
    "        valid_pix = lambda x, y, m, n: 0 <= x <= m - 1 and 0 <= y <= n - 1\n",
    "        return [(a, b) for a, b in nxy(x, y) if valid_pix(a, b, m, n)]\n",
    "    else:\n",
    "        print \"undefined mode\"\n",
    "        return None\n",
    "\n",
    "start = [[1, 0, 1], [1, 0, 0], [1, 0, 0]]\n",
    "plotcells(one_generation_matrix(start))"
   ]
  },
  {
   "cell_type": "markdown",
   "metadata": {},
   "source": [
    "## Animating results"
   ]
  },
  {
   "cell_type": "markdown",
   "metadata": {},
   "source": [
    "First we modify the plotcells function such that it write to a image file for a given matrix data."
   ]
  },
  {
   "cell_type": "code",
   "execution_count": 32,
   "metadata": {
    "collapsed": false
   },
   "outputs": [],
   "source": [
    "def cells2png(array, seq):\n",
    "    m = len(array)\n",
    "    n = len(array[0])\n",
    "    \n",
    "    fig = plt.figure()\n",
    "    ax = fig.add_subplot(111)\n",
    "\n",
    "    if not n:\n",
    "        # empty matrix, plot one white square\n",
    "        ax.add_patch(patches.Rectangle((0,0), 1,1, color=\"white\"))\n",
    "        plt.xlim(0, 1)\n",
    "        plt.ylim(0, 1)\n",
    "    else:\n",
    "        for i, row in enumerate(array):\n",
    "            for j, cell in enumerate(row):\n",
    "                if cell:\n",
    "                    ax.add_patch(patches.Rectangle((j,i), 1,1, color=\"black\"))\n",
    "                else: \n",
    "                    ax.add_patch(patches.Rectangle((j,i), 1,1, color=\"white\"))\n",
    "\n",
    "        plt.xlim(0, n)\n",
    "        plt.ylim(0, m)\n",
    "\n",
    "    tick_spacing = max(m,n)//10+1\n",
    "    ax.xaxis.set_major_locator(mpl.ticker.MultipleLocator(tick_spacing))\n",
    "    ax.yaxis.set_major_locator(mpl.ticker.MultipleLocator(tick_spacing))\n",
    "    plt.grid(True, color = 'black', linestyle = '-')\n",
    "    \n",
    "    file_prefix = 'GOL'\n",
    "    plt.savefig(file_prefix + '-img-' + str(seq).zfill(3) + '.png', bbox_inches='tight')\n",
    "    plt.close(fig)"
   ]
  },
  {
   "cell_type": "markdown",
   "metadata": {},
   "source": [
    "Now we can create a 20x20 with 50% randomly distributed live cells, evolve it for 200 steps using periodic boundary condition, and produce an animated gif. We save the results of each step into a png image, then we use the write2Gif function from images2gif module to combine the sequence of images into an animated gif.   "
   ]
  },
  {
   "cell_type": "code",
   "execution_count": 33,
   "metadata": {
    "collapsed": false
   },
   "outputs": [
    {
     "name": "stdout",
     "output_type": "stream",
     "text": [
      "done evolution\n"
     ]
    },
    {
     "data": {
      "text/html": [
       "<img src=\"GOL-animation-001.gif\"/>"
      ],
      "text/plain": [
       "<IPython.core.display.Image object>"
      ]
     },
     "execution_count": 33,
     "metadata": {},
     "output_type": "execute_result"
    }
   ],
   "source": [
    "##  Now let us generate some data   \n",
    "cells = generate_start_config(20,20)\n",
    "\n",
    "cells_multigen = list()\n",
    "ngen = 200\n",
    "\n",
    "# create a sequence of images, each representing a generation\n",
    "for i in xrange(ngen):\n",
    "    cells2png(cells, i)\n",
    "    cells = one_generation_matrix(cells)\n",
    "else: \n",
    "    print \"done evolution\"\n",
    "\n",
    "# generating animated gif\n",
    "import IPython.display as IPdisplay\n",
    "import glob\n",
    "from PIL import Image\n",
    "from images2gif import writeGif\n",
    "\n",
    "images = [Image.open(image) for image in glob.glob('GOL-*.png')]\n",
    "writeGif(\"GOL-animation-001.gif\", images, duration=0.4)\n",
    "IPdisplay.Image(url=\"GOL-animation-001.gif\")"
   ]
  },
  {
   "cell_type": "markdown",
   "metadata": {},
   "source": [
    "## Infinite plane (no boundary condition)"
   ]
  },
  {
   "cell_type": "markdown",
   "metadata": {},
   "source": [
    "However, if the plane is infinite, what will happen then? Image a case with three consecutive cells on the border, for example as shown below:"
   ]
  },
  {
   "cell_type": "code",
   "execution_count": 34,
   "metadata": {
    "collapsed": false
   },
   "outputs": [
    {
     "data": {
      "image/png": "[encoded data removed]",
      "text/plain": [
       "<matplotlib.figure.Figure at 0x40236f28>"
      ]
     },
     "metadata": {},
     "output_type": "display_data"
    }
   ],
   "source": [
    "plotcells([[0,0,0,0],[1,1,1,1]])"
   ]
  },
  {
   "cell_type": "markdown",
   "metadata": {},
   "source": [
    "New cells will become alive at (1,2) and (2,2) positions in the next generation. In other words, the next generation will occupy \n",
    "some new territory. On the other hand, the updates for current live cells will not change since those new cells \n",
    "will all assmed to be dead.\n",
    "\n",
    "Thus, for the matrix implementation, we would need to manange the shape of the matrix dynamically to accomondate new cells next to the current border that may become alive (note that the matrix can at most expand by one column/row in each direction between two consecutive generations, as dictated by how we define neighbors). Here, we will consider a different representation of the data. Instead of using a matrix, we save the coordinates (x,y) of all live cells as a list of tuples. This has at least two advantages:\n",
    "\n",
    "1. we don't need to consider the boundary explicitly, (x,y) position tuples can have negative values\n",
    "2. our calculation will only revolve around those live cells, we only need to check\n",
    "    - live cells\n",
    "    - neighbors of the live cells that are current dead\n",
    "\n",
    "First, we will need some functions to convert the matrix into list of tuples, or visa versa"
   ]
  },
  {
   "cell_type": "code",
   "execution_count": 35,
   "metadata": {
    "collapsed": false
   },
   "outputs": [
    {
     "name": "stdout",
     "output_type": "stream",
     "text": [
      "[(1, 6), (2, 6)]\n",
      "matrix representation =  [[1, 0, 1], [1, 0, 0], [1, 0, 0]]\n",
      "tuples representation =  [(0, 0), (0, 2), (1, 0), (2, 0)]\n"
     ]
    }
   ],
   "source": [
    "def mat2tuples(cells):\n",
    "    \"\"\" Given cells represented in a matrix, return a list of positions (i,j) with live cells\"\"\"\n",
    "    return [(i, j) for i, row in enumerate(cells) for j, col in enumerate(row) if col]\n",
    "\n",
    "def tuples2mat(tuples):\n",
    "    \"\"\" Given positions of live cells (as x,y tuples), convert them in a minimum matrix representation\"\"\"\n",
    "    if not tuples:\n",
    "        return [[]]\n",
    "\n",
    "    (xmin, xmax), (ymin, ymax) = xylim(tuples)\n",
    "    ny = ymax - ymin + 1\n",
    "    nx = xmax - xmin + 1\n",
    "    mat = [[0]*ny for _ in range(nx)]\n",
    "    for t in tuples:\n",
    "        x = t[0] - xmin\n",
    "        y = t[1] - ymin\n",
    "        mat[x][y] = 1\n",
    "    return mat\n",
    "\n",
    "\n",
    "def xylim(tuples):\n",
    "    \"\"\" Given positions of cells, find the minimum rectangle to cover those cells, represented by\n",
    "    [(xmin,ymin), (xmax, ymax)]\n",
    "    \"\"\"\n",
    "    # assume random ordering of tuples, otherwise, sort by y is not needed\n",
    "    tuples_sorty = sorted(tuples, key=lambda x: x[1])\n",
    "    ymin = tuples_sorty[0][1]\n",
    "    ymax = tuples_sorty[-1][1]\n",
    "\n",
    "    tuples_sortx = sorted(tuples, key=lambda x: x[0])\n",
    "    xmin = tuples_sortx[0][0]\n",
    "    xmax = tuples_sortx[-1][0]\n",
    "    return [(xmin, xmax), (ymin, ymax)]\n",
    "\n",
    "print xylim([(5,6), (1,2), (6,2), (1,3)])\n",
    "mat = [[1, 0, 1], [1, 0, 0], [1, 0, 0]]\n",
    "tuples = mat2tuples(mat)\n",
    "mat2 = tuples2mat(tuples)\n",
    "assert (mat2 == mat)\n",
    "print \"matrix representation = \", mat2\n",
    "print \"tuples representation = \", tuples"
   ]
  },
  {
   "cell_type": "markdown",
   "metadata": {},
   "source": [
    "Now we can implement GOL with no boundary condition, "
   ]
  },
  {
   "cell_type": "code",
   "execution_count": 36,
   "metadata": {
    "collapsed": true
   },
   "outputs": [],
   "source": [
    "def get_neighbors(t):\n",
    "    x, y = t\n",
    "    return [(x - 1, y - 1), (x - 1, y), (x - 1, y + 1),\n",
    "            (x, y - 1), (x, y + 1), (x + 1, y - 1),\n",
    "            (x + 1, y), (x + 1, y + 1)]\n",
    "\n",
    "\n",
    "def count_live_neighbors(position_tuple, all_live_tuples):\n",
    "    \"\"\" given a tuple, count how many its neighbors are alive  \"\"\"\n",
    "    return len(set(get_neighbors(position_tuple)) & set(all_live_tuples))\n",
    "\n",
    "\n",
    "def one_generation(all_live_tuples):\n",
    "    \"\"\" one generation of evolution by rule \"\"\"\n",
    "    if not all_live_tuples:\n",
    "        return []\n",
    "\n",
    "    # pass 1 check all live cells in current generation, and collect all neighboring dead cells\n",
    "    new_gen = list()\n",
    "    dead_neighbor_cells = list()\n",
    "    for cell in all_live_tuples:\n",
    "        dead_neighbor_cells.extend([t for t in get_neighbors(cell) if t not in all_live_tuples])\n",
    "        if 2 <= count_live_neighbors(cell, all_live_tuples) <= 3:\n",
    "            new_gen.append(cell)\n",
    "\n",
    "    # pass 2, check dead cells adjacent to current live cells\n",
    "    for cell in set(dead_neighbor_cells):\n",
    "        if count_live_neighbors(cell, all_live_tuples) == 3:\n",
    "            new_gen.append(cell)\n",
    "\n",
    "    # order the output by y, then by x\n",
    "    return sorted(new_gen, key=lambda x: (x[1], x[0]))\n",
    "\n",
    "\n",
    "def evolve(all_live_tuples, generations):\n",
    "    \"\"\" evolve a specific generations \"\"\"\n",
    "    curr = all_live_tuples\n",
    "    for _ in range(generations):\n",
    "        curr = one_generation(curr)\n",
    "    return curr\n",
    "\n",
    "\n",
    "def get_generation(cells, generations):\n",
    "    \"\"\" Provide matrix interface to call \"\"\"\n",
    "    tuples = mat2tuples(cells)\n",
    "    new_gen = evolve(tuples, generations)\n",
    "    return tuples2mat(new_gen)"
   ]
  },
  {
   "cell_type": "markdown",
   "metadata": {},
   "source": [
    "Most of the work is done in the one_generation function. In first pass, we go through all live cells, and for each,  and count number of its neighbors to decide whether it will stay alive (save into a new list of live tuples). Additionally, we collect the neighboring dead cells of these live cells (duplicates are removed by using a set).  In the second pass, we check the number of live neighbors for each distinct dead cell adjacent to the live cells, and add them to the new live list if it meets the condition to become alive (i.e. number of live neighbors is 3). \n",
    "\n",
    "For test case [[1,1,1]], we expect that the three 1's rotate 90 degree between generations:"
   ]
  },
  {
   "cell_type": "code",
   "execution_count": 37,
   "metadata": {
    "collapsed": false
   },
   "outputs": [
    {
     "name": "stdout",
     "output_type": "stream",
     "text": [
      "[[1], [1], [1]]\n",
      "[[1, 1, 1]]\n"
     ]
    }
   ],
   "source": [
    "print get_generation([[1,1,1]],1)\n",
    "print get_generation([[1,1,1]],2)"
   ]
  },
  {
   "cell_type": "code",
   "execution_count": 38,
   "metadata": {
    "collapsed": false
   },
   "outputs": [
    {
     "data": {
      "image/png": "[encoded data removed]",
      "text/plain": [
       "<matplotlib.figure.Figure at 0x146ea5358>"
      ]
     },
     "metadata": {},
     "output_type": "display_data"
    },
    {
     "data": {
      "image/png": "[encoded data removed]",
      "text/plain": [
       "<matplotlib.figure.Figure at 0x146ea51d0>"
      ]
     },
     "metadata": {},
     "output_type": "display_data"
    }
   ],
   "source": [
    "mat = generate_start_config(5,5,0.4)\n",
    "plotcells(mat)\n",
    "plotcells(get_generation(mat,1))"
   ]
  },
  {
   "cell_type": "markdown",
   "metadata": {},
   "source": [
    "## Putting it together"
   ]
  },
  {
   "cell_type": "markdown",
   "metadata": {},
   "source": [
    "## Simulation"
   ]
  },
  {
   "cell_type": "markdown",
   "metadata": {},
   "source": [
    "## GOL and edge detection"
   ]
  },
  {
   "cell_type": "code",
   "execution_count": null,
   "metadata": {
    "collapsed": true
   },
   "outputs": [],
   "source": []
  }
 ],
 "metadata": {
  "kernelspec": {
   "display_name": "Python 2",
   "language": "python",
   "name": "python2"
  },
  "language_info": {
   "codemirror_mode": {
    "name": "ipython",
    "version": 2
   },
   "file_extension": ".py",
   "mimetype": "text/x-python",
   "name": "python",
   "nbconvert_exporter": "python",
   "pygments_lexer": "ipython2",
   "version": "2.7.10"
  }
 },
 "nbformat": 4,
 "nbformat_minor": 0
}
